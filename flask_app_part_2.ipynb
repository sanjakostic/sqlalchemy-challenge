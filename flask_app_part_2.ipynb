{
 "cells": [
  {
   "cell_type": "code",
   "execution_count": 1,
   "metadata": {},
   "outputs": [],
   "source": [
    "import pandas as pd\n",
    "import datetime as dt\n",
    "import sqlalchemy\n",
    "from sqlalchemy.ext.automap import automap_base\n",
    "from sqlalchemy.orm import Session\n",
    "from sqlalchemy import create_engine, func"
   ]
  },
  {
   "cell_type": "code",
   "execution_count": 2,
   "metadata": {},
   "outputs": [
    {
     "name": "stderr",
     "output_type": "stream",
     "text": [
      "C:\\Users\\aKost\\AppData\\Local\\Temp\\ipykernel_19268\\1919188487.py:4: SADeprecationWarning: The AutomapBase.prepare.reflect parameter is deprecated and will be removed in a future release.  Reflection is enabled when AutomapBase.prepare.autoload_with is passed.\n",
      "  Base.prepare(engine, reflect=True)\n"
     ]
    }
   ],
   "source": [
    "# create engine to hawaii.sqlite\n",
    "engine = create_engine(\"sqlite:///Resources/hawaii.sqlite\") # create sqlite link (engine)\n",
    "Base = automap_base() # mapping basis\n",
    "Base.prepare(engine, reflect=True) # map DB (engine) and reflect\n",
    "Station = Base.classes.station # get station\n",
    "Measurement = Base.classes.measurement # get measurement"
   ]
  },
  {
   "cell_type": "code",
   "execution_count": 3,
   "metadata": {},
   "outputs": [],
   "source": [
    "# Create our session (link) from Python to the DB\n",
    "session = Session(engine)"
   ]
  },
  {
   "cell_type": "code",
   "execution_count": 4,
   "metadata": {},
   "outputs": [],
   "source": [
    "# creating variable for most recent date for app\n",
    "most_recent_date = session.query(func.max(Measurement.date)).scalar()\n",
    "most_recent_date_dt = dt.datetime.strptime(most_recent_date, '%Y-%m-%d') \n",
    "\n",
    "most_active_stations = session.query(Measurement.station, func.count(Measurement.station)).group_by(Measurement.station).order_by(func.count(Measurement.station).desc()).all()\n",
    "\n",
    "\n",
    "# getting the most active station for the app\n",
    "most_observed_station = most_active_stations[0][0]\n",
    "\n",
    "\n",
    "# getting the date 12 mo. ago for the app\n",
    "twelve_months_ago = most_recent_date_dt - dt.timedelta(days=365)"
   ]
  },
  {
   "cell_type": "code",
   "execution_count": 5,
   "metadata": {},
   "outputs": [],
   "source": [
    "from flask import Flask, jsonify, render_template\n",
    "\n",
    "app = Flask(__name__)\n",
    "\n",
    "@app.route(\"/\")\n",
    "def homepage():\n",
    "    \"\"\"List all available routes.\"\"\"\n",
    "    # add in <a href=\"...\"></a> tags to make it directly linkable with the exception of <start> and <start>/<end>\n",
    "    # which need to be manually modified using YYYY-MM-DD formatting ex: \"./api/v1.0/2010-01-01/2011-01-01\" \n",
    "    # where \".\" is the beginning url to the app\n",
    "    return (\n",
    "        f\"Available Routes:<br/>\"\n",
    "        f\"<a href=\\\"./api/v1.0/precipitation\\\">/api/v1.0/precipitation</a><br/>\"\n",
    "        f\"<a href=\\\"./api/v1.0/stations\\\">/api/v1.0/stations</a><br/>\"\n",
    "        f\"<a href=\\\"./api/v1.0/tobs\\\">/api/v1.0/tobs</a><br/>\"\n",
    "        f\"<a href=\\\"./api/v1.0/&lt;start&gt;\\\">/api/v1.0/&lt;start&gt;</a><br/>\"\n",
    "        f\"<a href=\\\"./api/v1.0/&lt;start&gt;/&lt;end&gt;\\\">/api/v1.0/&lt;start&gt;/&lt;end&gt;</a>\"\n",
    "    )\n",
    "\n",
    "@app.route(\"/api/v1.0/precipitation\")\n",
    "def precipitation():\n",
    "    \"\"\"Return the last 12 months of precipitation data.\"\"\"\n",
    "    # getting the date from 12 months before most_recent_date_dt, calculated before this cell\n",
    "    twelve_months_ago = most_recent_date_dt - dt.timedelta(days=365)\n",
    "\n",
    "    # query for precipation data from date of twelve_months_ago up to most_recent_date_dt\n",
    "    results = session.query(Measurement.date, Measurement.prcp).filter(Measurement.date >= twelve_months_ago).filter(Measurement.date <= most_recent_date_dt).all()\n",
    "\n",
    "    # formatting `results` to be dictionary of date: prcp\n",
    "    precipitation_data = {date: prcp for date, prcp in results}\n",
    "\n",
    "    # jsonifying for the app\n",
    "    return jsonify(precipitation_data)\n",
    "\n",
    "@app.route(\"/api/v1.0/stations\")\n",
    "def stations():\n",
    "    \"\"\"Return a JSON list of stations from the dataset.\"\"\"\n",
    "    # querying for all stations\n",
    "    results = session.query(Station.station).all()\n",
    "\n",
    "    # converting stations into a single list\n",
    "    stations_list = [station for station, in results]\n",
    "\n",
    "    # list is jsonified and returned\n",
    "    return jsonify(stations_list)\n",
    "\n",
    "@app.route(\"/api/v1.0/tobs\")\n",
    "def tobs():\n",
    "    \"\"\"Return temperature observations for the most active station over the last year.\"\"\"\n",
    "    # querying for temperature for just the most active station over the last year\n",
    "    results = session.query(Measurement.date, Measurement.tobs).filter(Measurement.station == most_observed_station).filter(Measurement.date >= twelve_months_ago).filter(Measurement.date <= most_recent_date_dt).all()\n",
    "\n",
    "    # creating list of dictionaries using date: temperature over the last year for the most active station\n",
    "    temperature_data = [{\"Date\": date, \"Temperature\": tobs} for date, tobs in results]\n",
    "\n",
    "    # jsonifying the dictionary and returning to app\n",
    "    return jsonify(temperature_data)\n",
    "\n",
    "@app.route(\"/api/v1.0/<start>\")\n",
    "def start_date(start):\n",
    "    \"\"\"Return TMIN, TAVG, and TMAX for all dates greater than or equal to the start date.\"\"\"\n",
    "    # querying for temperature for all dates greater than provided <start> date in format YYYY-MM-DD\n",
    "    results = session.query(func.min(Measurement.tobs), func.avg(Measurement.tobs), func.max(Measurement.tobs)).filter(Measurement.date >= start).all()\n",
    "\n",
    "    # creating list of dictionaries using the query results \n",
    "    temperature_stats = [{\"TMIN\": tmin, \"TAVG\": tavg, \"TMAX\": tmax} for tmin, tavg, tmax in results]\n",
    "\n",
    "    # jsonifying the list and returning to the app\n",
    "    return jsonify(temperature_stats)\n",
    "\n",
    "@app.route(\"/api/v1.0/<start>/<end>\")\n",
    "def start_end_date(start, end):\n",
    "    \"\"\"Return TMIN, TAVG, and TMAX for the specified start and end date range.\"\"\"\n",
    "    # querying for temperature for all dates greater than provided <start> date in format YYYY-MM-DD\n",
    "    # and for all dates less than the provided <end> date in format YYYY-MM-DD\n",
    "    results = session.query(func.min(Measurement.tobs), func.avg(Measurement.tobs), func.max(Measurement.tobs)).filter(Measurement.date >= start).filter(Measurement.date <= end).all()\n",
    "\n",
    "    # creating list of dictionaries using the query results \n",
    "    temperature_stats = [{\"TMIN\": tmin, \"TAVG\": tavg, \"TMAX\": tmax} for tmin, tavg, tmax in results]\n",
    "\n",
    "    # jsonifying the list and returning to the app\n",
    "    return jsonify(temperature_stats)"
   ]
  },
  {
   "cell_type": "code",
   "execution_count": 6,
   "metadata": {},
   "outputs": [
    {
     "name": "stdout",
     "output_type": "stream",
     "text": [
      " * Serving Flask app '__main__'\n",
      " * Debug mode: off\n"
     ]
    },
    {
     "name": "stderr",
     "output_type": "stream",
     "text": [
      "WARNING: This is a development server. Do not use it in a production deployment. Use a production WSGI server instead.\n",
      " * Running on http://127.0.0.1:5000\n",
      "Press CTRL+C to quit\n",
      "127.0.0.1 - - [31/Mar/2024 15:37:37] \"GET / HTTP/1.1\" 200 -\n",
      "127.0.0.1 - - [31/Mar/2024 15:37:39] \"GET /api/v1.0/precipitation HTTP/1.1\" 200 -\n",
      "127.0.0.1 - - [31/Mar/2024 15:37:41] \"GET /api/v1.0/stations HTTP/1.1\" 200 -\n",
      "127.0.0.1 - - [31/Mar/2024 15:37:43] \"GET /api/v1.0/tobs HTTP/1.1\" 200 -\n",
      "127.0.0.1 - - [31/Mar/2024 15:37:45] \"GET /api/v1.0/%3Cstart%3E HTTP/1.1\" 200 -\n",
      "127.0.0.1 - - [31/Mar/2024 15:37:47] \"GET /api/v1.0/%3Cstart%3E/%3Cend%3E HTTP/1.1\" 200 -\n"
     ]
    }
   ],
   "source": [
    "if __name__ == \"__main__\":\n",
    "    app.run() # currently requires \"stop\"ping the cell to end the application run"
   ]
  },
  {
   "cell_type": "code",
   "execution_count": 7,
   "metadata": {},
   "outputs": [],
   "source": [
    "# Close Session\n",
    "session.close()"
   ]
  },
  {
   "cell_type": "code",
   "execution_count": null,
   "metadata": {},
   "outputs": [],
   "source": []
  }
 ],
 "metadata": {
  "anaconda-cloud": {},
  "kernel_info": {
   "name": "python3"
  },
  "kernelspec": {
   "display_name": "Python 3 (ipykernel)",
   "language": "python",
   "name": "python3"
  },
  "language_info": {
   "codemirror_mode": {
    "name": "ipython",
    "version": 3
   },
   "file_extension": ".py",
   "mimetype": "text/x-python",
   "name": "python",
   "nbconvert_exporter": "python",
   "pygments_lexer": "ipython3",
   "version": "3.9.18"
  },
  "nteract": {
   "version": "0.12.3"
  },
  "varInspector": {
   "cols": {
    "lenName": 16,
    "lenType": 16,
    "lenVar": 40
   },
   "kernels_config": {
    "python": {
     "delete_cmd_postfix": "",
     "delete_cmd_prefix": "del ",
     "library": "var_list.py",
     "varRefreshCmd": "print(var_dic_list())"
    },
    "r": {
     "delete_cmd_postfix": ") ",
     "delete_cmd_prefix": "rm(",
     "library": "var_list.r",
     "varRefreshCmd": "cat(var_dic_list()) "
    }
   },
   "types_to_exclude": [
    "module",
    "function",
    "builtin_function_or_method",
    "instance",
    "_Feature"
   ],
   "window_display": false
  }
 },
 "nbformat": 4,
 "nbformat_minor": 4
}
